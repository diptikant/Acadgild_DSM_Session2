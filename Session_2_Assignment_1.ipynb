{
 "cells": [
  {
   "cell_type": "code",
   "execution_count": 13,
   "metadata": {},
   "outputs": [
    {
     "name": "stdout",
     "output_type": "stream",
     "text": [
      "enter numbers separated by comma: 12,19,27,44,78,9\n",
      "list_num : ['12', '19', '27', '44', '78', '9']\n",
      "list_int_num : [12, 19, 27, 44, 78, 9]\n"
     ]
    }
   ],
   "source": [
    "#assignment 1 \n",
    "# Write a program which accepts a sequence of comma separated numbers from console and generate list\n",
    "num = input('enter numbers separated by comma: ')\n",
    "list_num = num.split(\",\")\n",
    "list_int_num = [int(x) for x in list_num]\n",
    "print(\"list_num :\",list_num)\n",
    "print(\"list_int_num :\",list_int_num)"
   ]
  },
  {
   "cell_type": "code",
   "execution_count": 14,
   "metadata": {},
   "outputs": [
    {
     "name": "stdout",
     "output_type": "stream",
     "text": [
      "*\n",
      "**\n",
      "***\n",
      "****\n",
      "*****\n",
      "****\n",
      "***\n",
      "**\n",
      "*\n"
     ]
    }
   ],
   "source": [
    "#assignment 2\n",
    "#Create the below pattern using nested for loop in Python\n",
    "j = 0\n",
    "for i in range(1,10):\n",
    "    if i <= 5:\n",
    "        print('*' *i)\n",
    "    else:\n",
    "        \n",
    "        j += 2\n",
    "        print('*' *(i - j))\n"
   ]
  },
  {
   "cell_type": "code",
   "execution_count": 15,
   "metadata": {},
   "outputs": [
    {
     "name": "stdout",
     "output_type": "stream",
     "text": [
      "enter a word: Diptikanta\n",
      "reverse of the word Diptikanta is atnakitpiD\n"
     ]
    }
   ],
   "source": [
    "#assignment 3\n",
    "# Write a Python program to reverse a word after accepting the input from the user.\n",
    "input_word = input(\"enter a word: \")\n",
    "print(\"reverse of the word {} is {}\".format(input_word,input_word[::-1]))"
   ]
  },
  {
   "cell_type": "code",
   "execution_count": 16,
   "metadata": {},
   "outputs": [
    {
     "name": "stdout",
     "output_type": "stream",
     "text": [
      "WE,THE PEOPLE OF INDIA,\n",
      "\thaving solemnly to constitute India into a SOVERRIGN !\n",
      " \t\tSOCIALIST,SECULAR,DEMOCRATIC REPUBLIC\n",
      "\t\t and to secure to all its citizens \n"
     ]
    }
   ],
   "source": [
    "#assignment 4\n",
    "# Write a Python Program to print the given string in the format specified in the sample output.\n",
    "# WE, THE PEOPLE OF INDIA, having solemnly resolved to constitute India into a SOVEREIGN,\n",
    "#  SOCIALIST, SECULAR, DEMOCRATIC REPUBLIC and to secure to all its citizens\n",
    "#Sample Output:\n",
    "# WE, THE PEOPLE OF INDIA,\n",
    "#          having solemnly resolved to constitute India into a SOVEREIGN, !\n",
    "#                  SOCIALIST, SECULAR, DEMOCRATIC REPUBLIC\n",
    "#                   and to secure to all its citizens\n",
    "\n",
    "print(\"WE,THE PEOPLE OF INDIA,\\n\\thaving solemnly to constitute India into a SOVERRIGN !\\n \\t\\tSOCIALIST,SECULAR,DEMOCRATIC REPUBLIC\\n\\t\\t and to secure to all its citizens \")"
   ]
  }
 ],
 "metadata": {
  "kernelspec": {
   "display_name": "Python 3",
   "language": "python",
   "name": "python3"
  },
  "language_info": {
   "codemirror_mode": {
    "name": "ipython",
    "version": 3
   },
   "file_extension": ".py",
   "mimetype": "text/x-python",
   "name": "python",
   "nbconvert_exporter": "python",
   "pygments_lexer": "ipython3",
   "version": "3.6.5"
  }
 },
 "nbformat": 4,
 "nbformat_minor": 2
}
